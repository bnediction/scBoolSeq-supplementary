{
 "cells": [
  {
   "cell_type": "markdown",
   "id": "f8f8866d",
   "metadata": {},
   "source": [
    "# Aggregation Method Comparison\n",
    "\n"
   ]
  },
  {
   "cell_type": "code",
   "execution_count": 1,
   "id": "51d650f8",
   "metadata": {},
   "outputs": [
    {
     "data": {
      "text/html": [
       "<style>.container { width:95% !important; }</style>"
      ],
      "text/plain": [
       "<IPython.core.display.HTML object>"
      ]
     },
     "metadata": {},
     "output_type": "display_data"
    }
   ],
   "source": [
    "from IPython.display import display, HTML\n",
    "display(HTML(\"<style>.container { width:95% !important; }</style>\"))\n",
    "import warnings\n",
    "warnings.filterwarnings(\"ignore\") # umap deprecation warnings related to numba do not concern us."
   ]
  },
  {
   "cell_type": "code",
   "execution_count": 3,
   "id": "c699d442",
   "metadata": {},
   "outputs": [],
   "source": [
    "from pathlib import Path as path\n",
    "import functools as fn\n",
    "import itertools as it\n",
    "import json\n",
    "\n",
    "import numpy as np\n",
    "import pandas as pd\n",
    "import networkx as nx\n",
    "import matplotlib.pyplot as plt\n",
    "from matplotlib_venn import venn3, venn3_circles\n",
    "from sklearn.utils import Bunch\n",
    "\n",
    "from scboolseq.utils import parse_data_directory, parse_pickles\n",
    "from scboolseq import scBoolSeq\n",
    "\n",
    "from markers import (\n",
    "    positive_markers, # function to generate a configuration dictionnary from a set of marker genes\n",
    "    states_and_markers, # Dictionnary containing phenotypes and their marker genes\n",
    "    marker_genes, # pandas.Series containing simply the name of markers\n",
    ")"
   ]
  },
  {
   "cell_type": "code",
   "execution_count": 4,
   "id": "1c407205",
   "metadata": {},
   "outputs": [
    {
     "name": "stdout",
     "output_type": "stream",
     "text": [
      "bootstrap_analysis/bootstrap_grn_optimized_v1.json\n",
      "mode_analysis/mode_grn_optimized_v1.json\n",
      "sum_analysis/sum_grn_optimized_v1.json\n"
     ]
    }
   ],
   "source": [
    "%ls *_analysis/*_grn_optimized_v1.json"
   ]
  },
  {
   "cell_type": "code",
   "execution_count": 5,
   "id": "176bfb5c",
   "metadata": {},
   "outputs": [],
   "source": [
    "here = path(\".\").resolve()"
   ]
  },
  {
   "cell_type": "code",
   "execution_count": 6,
   "id": "36702ce2",
   "metadata": {},
   "outputs": [],
   "source": [
    "grns = Bunch()\n",
    "for f in here.glob(\"*_analysis/*_grn_optimized_v1.json\"):\n",
    "    with open(f.as_posix(), \"r\") as _js:\n",
    "        grns.update({f.name.split(\"_\")[0]: nx.node_link_graph(json.load(_js))})"
   ]
  },
  {
   "cell_type": "code",
   "execution_count": 7,
   "id": "e8729cce",
   "metadata": {},
   "outputs": [
    {
     "data": {
      "text/plain": [
       "dict_keys(['bootstrap', 'sum', 'mode'])"
      ]
     },
     "execution_count": 7,
     "metadata": {},
     "output_type": "execute_result"
    }
   ],
   "source": [
    "grns.keys()"
   ]
  },
  {
   "cell_type": "code",
   "execution_count": 8,
   "id": "90c39cb1",
   "metadata": {},
   "outputs": [],
   "source": [
    "kept_nodes = Bunch(**{k: set(v.nodes) for k, v in grns.items()})"
   ]
  },
  {
   "cell_type": "code",
   "execution_count": 9,
   "id": "5cac3ffc",
   "metadata": {},
   "outputs": [
    {
     "data": {
      "text/plain": [
       "<matplotlib_venn._common.VennDiagram at 0x77ce06d5db90>"
      ]
     },
     "execution_count": 9,
     "metadata": {},
     "output_type": "execute_result"
    },
    {
     "data": {
      "image/png": "[encoded data removed]",
      "text/plain": [
       "<Figure size 640x480 with 1 Axes>"
      ]
     },
     "metadata": {},
     "output_type": "display_data"
    }
   ],
   "source": [
    "venn3(\n",
    "    [kept_nodes.sum, kept_nodes.mode, kept_nodes.bootstrap],\n",
    "    (\"Sum\", \"Mode\", \"Bootstrap\")\n",
    ")"
   ]
  },
  {
   "cell_type": "code",
   "execution_count": 10,
   "id": "16b46b26",
   "metadata": {},
   "outputs": [
    {
     "data": {
      "text/plain": [
       "{'bootstrap': 177, 'sum': 184, 'mode': 243}"
      ]
     },
     "execution_count": 10,
     "metadata": {},
     "output_type": "execute_result"
    }
   ],
   "source": [
    "{k: len(v) for k, v in kept_nodes.items()}"
   ]
  },
  {
   "cell_type": "code",
   "execution_count": 11,
   "id": "e35dea46",
   "metadata": {},
   "outputs": [],
   "source": [
    "for _method, _nodes in kept_nodes.items():\n",
    "    with open(f\"{_method}_kept_nodes.txt\", \"w\") as f:\n",
    "        f.write(\"Gene\\n\")\n",
    "        for n in _nodes:\n",
    "            f.write(f\"{n}\\n\")"
   ]
  },
  {
   "cell_type": "code",
   "execution_count": 12,
   "id": "7d7a8180",
   "metadata": {},
   "outputs": [
    {
     "data": {
      "text/plain": [
       "[('bootstrap', 'sum'), ('bootstrap', 'mode'), ('sum', 'mode')]"
      ]
     },
     "execution_count": 12,
     "metadata": {},
     "output_type": "execute_result"
    }
   ],
   "source": [
    "list(it.combinations(kept_nodes, 2))"
   ]
  },
  {
   "cell_type": "code",
   "execution_count": 13,
   "id": "ef6c1566",
   "metadata": {},
   "outputs": [],
   "source": [
    "intersection_all = kept_nodes.mode & kept_nodes.sum & kept_nodes.bootstrap"
   ]
  },
  {
   "cell_type": "code",
   "execution_count": null,
   "id": "57a6fed7",
   "metadata": {},
   "outputs": [],
   "source": []
  },
  {
   "cell_type": "code",
   "execution_count": null,
   "id": "cdb51fc3-a562-4d6b-a355-d6b00c4be0ca",
   "metadata": {},
   "outputs": [],
   "source": []
  }
 ],
 "metadata": {
  "kernelspec": {
   "display_name": "Python 3 (ipykernel)",
   "language": "python",
   "name": "python3"
  },
  "language_info": {
   "codemirror_mode": {
    "name": "ipython",
    "version": 3
   },
   "file_extension": ".py",
   "mimetype": "text/x-python",
   "name": "python",
   "nbconvert_exporter": "python",
   "pygments_lexer": "ipython3",
   "version": "3.11.2"
  }
 },
 "nbformat": 4,
 "nbformat_minor": 5
}
